{
 "cells": [
  {
   "cell_type": "code",
   "execution_count": 4,
   "id": "b35a1e6a",
   "metadata": {},
   "outputs": [],
   "source": [
    "import numpy as np\n",
    "\n",
    "import pandas as pd\n"
   ]
  },
  {
   "cell_type": "code",
   "execution_count": 5,
   "id": "2178d38b",
   "metadata": {},
   "outputs": [],
   "source": [
    "data = pd.read_csv(\"moviereviews.tsv\" , sep=\"\\t\")"
   ]
  },
  {
   "cell_type": "code",
   "execution_count": 6,
   "id": "ef6d6a2a",
   "metadata": {},
   "outputs": [
    {
     "data": {
      "text/html": [
       "<div>\n",
       "<style scoped>\n",
       "    .dataframe tbody tr th:only-of-type {\n",
       "        vertical-align: middle;\n",
       "    }\n",
       "\n",
       "    .dataframe tbody tr th {\n",
       "        vertical-align: top;\n",
       "    }\n",
       "\n",
       "    .dataframe thead th {\n",
       "        text-align: right;\n",
       "    }\n",
       "</style>\n",
       "<table border=\"1\" class=\"dataframe\">\n",
       "  <thead>\n",
       "    <tr style=\"text-align: right;\">\n",
       "      <th></th>\n",
       "      <th>label</th>\n",
       "      <th>review</th>\n",
       "    </tr>\n",
       "  </thead>\n",
       "  <tbody>\n",
       "    <tr>\n",
       "      <th>0</th>\n",
       "      <td>neg</td>\n",
       "      <td>how do films like mouse hunt get into theatres...</td>\n",
       "    </tr>\n",
       "    <tr>\n",
       "      <th>1</th>\n",
       "      <td>neg</td>\n",
       "      <td>some talented actresses are blessed with a dem...</td>\n",
       "    </tr>\n",
       "    <tr>\n",
       "      <th>2</th>\n",
       "      <td>pos</td>\n",
       "      <td>this has been an extraordinary year for austra...</td>\n",
       "    </tr>\n",
       "    <tr>\n",
       "      <th>3</th>\n",
       "      <td>pos</td>\n",
       "      <td>according to hollywood movies made in last few...</td>\n",
       "    </tr>\n",
       "    <tr>\n",
       "      <th>4</th>\n",
       "      <td>neg</td>\n",
       "      <td>my first press screening of 1998 and already i...</td>\n",
       "    </tr>\n",
       "  </tbody>\n",
       "</table>\n",
       "</div>"
      ],
      "text/plain": [
       "  label                                             review\n",
       "0   neg  how do films like mouse hunt get into theatres...\n",
       "1   neg  some talented actresses are blessed with a dem...\n",
       "2   pos  this has been an extraordinary year for austra...\n",
       "3   pos  according to hollywood movies made in last few...\n",
       "4   neg  my first press screening of 1998 and already i..."
      ]
     },
     "execution_count": 6,
     "metadata": {},
     "output_type": "execute_result"
    }
   ],
   "source": [
    "data.head()"
   ]
  },
  {
   "cell_type": "code",
   "execution_count": 7,
   "id": "7a5a38e3",
   "metadata": {},
   "outputs": [
    {
     "data": {
      "text/plain": [
       "label      0\n",
       "review    35\n",
       "dtype: int64"
      ]
     },
     "execution_count": 7,
     "metadata": {},
     "output_type": "execute_result"
    }
   ],
   "source": [
    "data.isnull().sum()"
   ]
  },
  {
   "cell_type": "code",
   "execution_count": 8,
   "id": "dccdd06d",
   "metadata": {},
   "outputs": [],
   "source": [
    "data = data.dropna()"
   ]
  },
  {
   "cell_type": "code",
   "execution_count": 9,
   "id": "5996aa4d",
   "metadata": {},
   "outputs": [],
   "source": [
    "blanks = []\n",
    "\n",
    "for index, label, review in data.itertuples():\n",
    "    \n",
    "    if type(review) == str:\n",
    "        \n",
    "        if review.isspace():\n",
    "            \n",
    "            blanks.append(index)"
   ]
  },
  {
   "cell_type": "code",
   "execution_count": 10,
   "id": "db4b255e",
   "metadata": {},
   "outputs": [
    {
     "data": {
      "text/plain": [
       "[57,\n",
       " 71,\n",
       " 147,\n",
       " 151,\n",
       " 283,\n",
       " 307,\n",
       " 313,\n",
       " 323,\n",
       " 343,\n",
       " 351,\n",
       " 427,\n",
       " 501,\n",
       " 633,\n",
       " 675,\n",
       " 815,\n",
       " 851,\n",
       " 977,\n",
       " 1079,\n",
       " 1299,\n",
       " 1455,\n",
       " 1493,\n",
       " 1525,\n",
       " 1531,\n",
       " 1763,\n",
       " 1851,\n",
       " 1905,\n",
       " 1993]"
      ]
     },
     "execution_count": 10,
     "metadata": {},
     "output_type": "execute_result"
    }
   ],
   "source": [
    "blanks"
   ]
  },
  {
   "cell_type": "code",
   "execution_count": 11,
   "id": "70ac27bc",
   "metadata": {},
   "outputs": [],
   "source": [
    "data = data.drop(blanks)"
   ]
  },
  {
   "cell_type": "code",
   "execution_count": 12,
   "id": "8009c576",
   "metadata": {},
   "outputs": [
    {
     "data": {
      "text/plain": [
       "(1938, 2)"
      ]
     },
     "execution_count": 12,
     "metadata": {},
     "output_type": "execute_result"
    }
   ],
   "source": [
    "data.shape"
   ]
  },
  {
   "cell_type": "code",
   "execution_count": 13,
   "id": "6d9507e4",
   "metadata": {},
   "outputs": [],
   "source": [
    "import nltk"
   ]
  },
  {
   "cell_type": "code",
   "execution_count": 14,
   "id": "fe7f673e",
   "metadata": {},
   "outputs": [],
   "source": [
    "from nltk.sentiment.vader import SentimentIntensityAnalyzer"
   ]
  },
  {
   "cell_type": "code",
   "execution_count": 15,
   "id": "86cbf290",
   "metadata": {},
   "outputs": [],
   "source": [
    "sid = SentimentIntensityAnalyzer()"
   ]
  },
  {
   "cell_type": "code",
   "execution_count": 17,
   "id": "00f0d3fd",
   "metadata": {},
   "outputs": [],
   "source": [
    "data[\"scores\"] = data[\"review\"].apply(lambda review : sid.polarity_scores(review))"
   ]
  },
  {
   "cell_type": "code",
   "execution_count": 18,
   "id": "f15f68d6",
   "metadata": {},
   "outputs": [
    {
     "data": {
      "text/html": [
       "<div>\n",
       "<style scoped>\n",
       "    .dataframe tbody tr th:only-of-type {\n",
       "        vertical-align: middle;\n",
       "    }\n",
       "\n",
       "    .dataframe tbody tr th {\n",
       "        vertical-align: top;\n",
       "    }\n",
       "\n",
       "    .dataframe thead th {\n",
       "        text-align: right;\n",
       "    }\n",
       "</style>\n",
       "<table border=\"1\" class=\"dataframe\">\n",
       "  <thead>\n",
       "    <tr style=\"text-align: right;\">\n",
       "      <th></th>\n",
       "      <th>label</th>\n",
       "      <th>review</th>\n",
       "      <th>scores</th>\n",
       "    </tr>\n",
       "  </thead>\n",
       "  <tbody>\n",
       "    <tr>\n",
       "      <th>0</th>\n",
       "      <td>neg</td>\n",
       "      <td>how do films like mouse hunt get into theatres...</td>\n",
       "      <td>{'neg': 0.121, 'neu': 0.778, 'pos': 0.101, 'co...</td>\n",
       "    </tr>\n",
       "    <tr>\n",
       "      <th>1</th>\n",
       "      <td>neg</td>\n",
       "      <td>some talented actresses are blessed with a dem...</td>\n",
       "      <td>{'neg': 0.12, 'neu': 0.775, 'pos': 0.105, 'com...</td>\n",
       "    </tr>\n",
       "    <tr>\n",
       "      <th>2</th>\n",
       "      <td>pos</td>\n",
       "      <td>this has been an extraordinary year for austra...</td>\n",
       "      <td>{'neg': 0.068, 'neu': 0.781, 'pos': 0.15, 'com...</td>\n",
       "    </tr>\n",
       "    <tr>\n",
       "      <th>3</th>\n",
       "      <td>pos</td>\n",
       "      <td>according to hollywood movies made in last few...</td>\n",
       "      <td>{'neg': 0.071, 'neu': 0.782, 'pos': 0.147, 'co...</td>\n",
       "    </tr>\n",
       "    <tr>\n",
       "      <th>4</th>\n",
       "      <td>neg</td>\n",
       "      <td>my first press screening of 1998 and already i...</td>\n",
       "      <td>{'neg': 0.091, 'neu': 0.817, 'pos': 0.093, 'co...</td>\n",
       "    </tr>\n",
       "  </tbody>\n",
       "</table>\n",
       "</div>"
      ],
      "text/plain": [
       "  label                                             review  \\\n",
       "0   neg  how do films like mouse hunt get into theatres...   \n",
       "1   neg  some talented actresses are blessed with a dem...   \n",
       "2   pos  this has been an extraordinary year for austra...   \n",
       "3   pos  according to hollywood movies made in last few...   \n",
       "4   neg  my first press screening of 1998 and already i...   \n",
       "\n",
       "                                              scores  \n",
       "0  {'neg': 0.121, 'neu': 0.778, 'pos': 0.101, 'co...  \n",
       "1  {'neg': 0.12, 'neu': 0.775, 'pos': 0.105, 'com...  \n",
       "2  {'neg': 0.068, 'neu': 0.781, 'pos': 0.15, 'com...  \n",
       "3  {'neg': 0.071, 'neu': 0.782, 'pos': 0.147, 'co...  \n",
       "4  {'neg': 0.091, 'neu': 0.817, 'pos': 0.093, 'co...  "
      ]
     },
     "execution_count": 18,
     "metadata": {},
     "output_type": "execute_result"
    }
   ],
   "source": [
    "data.head()"
   ]
  },
  {
   "cell_type": "code",
   "execution_count": 22,
   "id": "2980e18f",
   "metadata": {},
   "outputs": [
    {
     "data": {
      "text/plain": [
       "{'neg': 0.121, 'neu': 0.778, 'pos': 0.101, 'compound': -0.9125}"
      ]
     },
     "execution_count": 22,
     "metadata": {},
     "output_type": "execute_result"
    }
   ],
   "source": [
    "data[\"scores\"][0]"
   ]
  },
  {
   "cell_type": "code",
   "execution_count": 23,
   "id": "7da3b52e",
   "metadata": {},
   "outputs": [],
   "source": [
    "data[\"comp_score\"] = data[\"scores\"].apply(lambda d : d[\"compound\"])"
   ]
  },
  {
   "cell_type": "code",
   "execution_count": 24,
   "id": "29121b46",
   "metadata": {},
   "outputs": [
    {
     "data": {
      "text/html": [
       "<div>\n",
       "<style scoped>\n",
       "    .dataframe tbody tr th:only-of-type {\n",
       "        vertical-align: middle;\n",
       "    }\n",
       "\n",
       "    .dataframe tbody tr th {\n",
       "        vertical-align: top;\n",
       "    }\n",
       "\n",
       "    .dataframe thead th {\n",
       "        text-align: right;\n",
       "    }\n",
       "</style>\n",
       "<table border=\"1\" class=\"dataframe\">\n",
       "  <thead>\n",
       "    <tr style=\"text-align: right;\">\n",
       "      <th></th>\n",
       "      <th>label</th>\n",
       "      <th>review</th>\n",
       "      <th>scores</th>\n",
       "      <th>comp_score</th>\n",
       "    </tr>\n",
       "  </thead>\n",
       "  <tbody>\n",
       "    <tr>\n",
       "      <th>0</th>\n",
       "      <td>neg</td>\n",
       "      <td>how do films like mouse hunt get into theatres...</td>\n",
       "      <td>{'neg': 0.121, 'neu': 0.778, 'pos': 0.101, 'co...</td>\n",
       "      <td>-0.9125</td>\n",
       "    </tr>\n",
       "    <tr>\n",
       "      <th>1</th>\n",
       "      <td>neg</td>\n",
       "      <td>some talented actresses are blessed with a dem...</td>\n",
       "      <td>{'neg': 0.12, 'neu': 0.775, 'pos': 0.105, 'com...</td>\n",
       "      <td>-0.8618</td>\n",
       "    </tr>\n",
       "    <tr>\n",
       "      <th>2</th>\n",
       "      <td>pos</td>\n",
       "      <td>this has been an extraordinary year for austra...</td>\n",
       "      <td>{'neg': 0.068, 'neu': 0.781, 'pos': 0.15, 'com...</td>\n",
       "      <td>0.9951</td>\n",
       "    </tr>\n",
       "    <tr>\n",
       "      <th>3</th>\n",
       "      <td>pos</td>\n",
       "      <td>according to hollywood movies made in last few...</td>\n",
       "      <td>{'neg': 0.071, 'neu': 0.782, 'pos': 0.147, 'co...</td>\n",
       "      <td>0.9972</td>\n",
       "    </tr>\n",
       "    <tr>\n",
       "      <th>4</th>\n",
       "      <td>neg</td>\n",
       "      <td>my first press screening of 1998 and already i...</td>\n",
       "      <td>{'neg': 0.091, 'neu': 0.817, 'pos': 0.093, 'co...</td>\n",
       "      <td>-0.2484</td>\n",
       "    </tr>\n",
       "  </tbody>\n",
       "</table>\n",
       "</div>"
      ],
      "text/plain": [
       "  label                                             review  \\\n",
       "0   neg  how do films like mouse hunt get into theatres...   \n",
       "1   neg  some talented actresses are blessed with a dem...   \n",
       "2   pos  this has been an extraordinary year for austra...   \n",
       "3   pos  according to hollywood movies made in last few...   \n",
       "4   neg  my first press screening of 1998 and already i...   \n",
       "\n",
       "                                              scores  comp_score  \n",
       "0  {'neg': 0.121, 'neu': 0.778, 'pos': 0.101, 'co...     -0.9125  \n",
       "1  {'neg': 0.12, 'neu': 0.775, 'pos': 0.105, 'com...     -0.8618  \n",
       "2  {'neg': 0.068, 'neu': 0.781, 'pos': 0.15, 'com...      0.9951  \n",
       "3  {'neg': 0.071, 'neu': 0.782, 'pos': 0.147, 'co...      0.9972  \n",
       "4  {'neg': 0.091, 'neu': 0.817, 'pos': 0.093, 'co...     -0.2484  "
      ]
     },
     "execution_count": 24,
     "metadata": {},
     "output_type": "execute_result"
    }
   ],
   "source": [
    "data.head()"
   ]
  },
  {
   "cell_type": "code",
   "execution_count": 25,
   "id": "c832a021",
   "metadata": {},
   "outputs": [],
   "source": [
    "data[\"sentiment\"] = data[\"comp_score\"].apply(lambda score : \"pos\" if score >= 0 else \"neg\")"
   ]
  },
  {
   "cell_type": "code",
   "execution_count": 26,
   "id": "1d05a9c5",
   "metadata": {},
   "outputs": [
    {
     "data": {
      "text/html": [
       "<div>\n",
       "<style scoped>\n",
       "    .dataframe tbody tr th:only-of-type {\n",
       "        vertical-align: middle;\n",
       "    }\n",
       "\n",
       "    .dataframe tbody tr th {\n",
       "        vertical-align: top;\n",
       "    }\n",
       "\n",
       "    .dataframe thead th {\n",
       "        text-align: right;\n",
       "    }\n",
       "</style>\n",
       "<table border=\"1\" class=\"dataframe\">\n",
       "  <thead>\n",
       "    <tr style=\"text-align: right;\">\n",
       "      <th></th>\n",
       "      <th>label</th>\n",
       "      <th>review</th>\n",
       "      <th>scores</th>\n",
       "      <th>comp_score</th>\n",
       "      <th>sentiment</th>\n",
       "    </tr>\n",
       "  </thead>\n",
       "  <tbody>\n",
       "    <tr>\n",
       "      <th>0</th>\n",
       "      <td>neg</td>\n",
       "      <td>how do films like mouse hunt get into theatres...</td>\n",
       "      <td>{'neg': 0.121, 'neu': 0.778, 'pos': 0.101, 'co...</td>\n",
       "      <td>-0.9125</td>\n",
       "      <td>neg</td>\n",
       "    </tr>\n",
       "    <tr>\n",
       "      <th>1</th>\n",
       "      <td>neg</td>\n",
       "      <td>some talented actresses are blessed with a dem...</td>\n",
       "      <td>{'neg': 0.12, 'neu': 0.775, 'pos': 0.105, 'com...</td>\n",
       "      <td>-0.8618</td>\n",
       "      <td>neg</td>\n",
       "    </tr>\n",
       "    <tr>\n",
       "      <th>2</th>\n",
       "      <td>pos</td>\n",
       "      <td>this has been an extraordinary year for austra...</td>\n",
       "      <td>{'neg': 0.068, 'neu': 0.781, 'pos': 0.15, 'com...</td>\n",
       "      <td>0.9951</td>\n",
       "      <td>pos</td>\n",
       "    </tr>\n",
       "    <tr>\n",
       "      <th>3</th>\n",
       "      <td>pos</td>\n",
       "      <td>according to hollywood movies made in last few...</td>\n",
       "      <td>{'neg': 0.071, 'neu': 0.782, 'pos': 0.147, 'co...</td>\n",
       "      <td>0.9972</td>\n",
       "      <td>pos</td>\n",
       "    </tr>\n",
       "    <tr>\n",
       "      <th>4</th>\n",
       "      <td>neg</td>\n",
       "      <td>my first press screening of 1998 and already i...</td>\n",
       "      <td>{'neg': 0.091, 'neu': 0.817, 'pos': 0.093, 'co...</td>\n",
       "      <td>-0.2484</td>\n",
       "      <td>neg</td>\n",
       "    </tr>\n",
       "    <tr>\n",
       "      <th>...</th>\n",
       "      <td>...</td>\n",
       "      <td>...</td>\n",
       "      <td>...</td>\n",
       "      <td>...</td>\n",
       "      <td>...</td>\n",
       "    </tr>\n",
       "    <tr>\n",
       "      <th>1995</th>\n",
       "      <td>pos</td>\n",
       "      <td>i like movies with albert brooks , and i reall...</td>\n",
       "      <td>{'neg': 0.073, 'neu': 0.763, 'pos': 0.164, 'co...</td>\n",
       "      <td>0.9991</td>\n",
       "      <td>pos</td>\n",
       "    </tr>\n",
       "    <tr>\n",
       "      <th>1996</th>\n",
       "      <td>pos</td>\n",
       "      <td>it might surprise some to know that joel and e...</td>\n",
       "      <td>{'neg': 0.238, 'neu': 0.688, 'pos': 0.074, 'co...</td>\n",
       "      <td>-0.9993</td>\n",
       "      <td>neg</td>\n",
       "    </tr>\n",
       "    <tr>\n",
       "      <th>1997</th>\n",
       "      <td>pos</td>\n",
       "      <td>the verdict : spine-chilling drama from horror...</td>\n",
       "      <td>{'neg': 0.15, 'neu': 0.702, 'pos': 0.147, 'com...</td>\n",
       "      <td>-0.5966</td>\n",
       "      <td>neg</td>\n",
       "    </tr>\n",
       "    <tr>\n",
       "      <th>1998</th>\n",
       "      <td>pos</td>\n",
       "      <td>i want to correct what i wrote in a former ret...</td>\n",
       "      <td>{'neg': 0.131, 'neu': 0.71, 'pos': 0.16, 'comp...</td>\n",
       "      <td>0.9387</td>\n",
       "      <td>pos</td>\n",
       "    </tr>\n",
       "    <tr>\n",
       "      <th>1999</th>\n",
       "      <td>pos</td>\n",
       "      <td>a couple of months ago , when i first download...</td>\n",
       "      <td>{'neg': 0.071, 'neu': 0.741, 'pos': 0.189, 'co...</td>\n",
       "      <td>0.9982</td>\n",
       "      <td>pos</td>\n",
       "    </tr>\n",
       "  </tbody>\n",
       "</table>\n",
       "<p>1938 rows × 5 columns</p>\n",
       "</div>"
      ],
      "text/plain": [
       "     label                                             review  \\\n",
       "0      neg  how do films like mouse hunt get into theatres...   \n",
       "1      neg  some talented actresses are blessed with a dem...   \n",
       "2      pos  this has been an extraordinary year for austra...   \n",
       "3      pos  according to hollywood movies made in last few...   \n",
       "4      neg  my first press screening of 1998 and already i...   \n",
       "...    ...                                                ...   \n",
       "1995   pos  i like movies with albert brooks , and i reall...   \n",
       "1996   pos  it might surprise some to know that joel and e...   \n",
       "1997   pos  the verdict : spine-chilling drama from horror...   \n",
       "1998   pos  i want to correct what i wrote in a former ret...   \n",
       "1999   pos  a couple of months ago , when i first download...   \n",
       "\n",
       "                                                 scores  comp_score sentiment  \n",
       "0     {'neg': 0.121, 'neu': 0.778, 'pos': 0.101, 'co...     -0.9125       neg  \n",
       "1     {'neg': 0.12, 'neu': 0.775, 'pos': 0.105, 'com...     -0.8618       neg  \n",
       "2     {'neg': 0.068, 'neu': 0.781, 'pos': 0.15, 'com...      0.9951       pos  \n",
       "3     {'neg': 0.071, 'neu': 0.782, 'pos': 0.147, 'co...      0.9972       pos  \n",
       "4     {'neg': 0.091, 'neu': 0.817, 'pos': 0.093, 'co...     -0.2484       neg  \n",
       "...                                                 ...         ...       ...  \n",
       "1995  {'neg': 0.073, 'neu': 0.763, 'pos': 0.164, 'co...      0.9991       pos  \n",
       "1996  {'neg': 0.238, 'neu': 0.688, 'pos': 0.074, 'co...     -0.9993       neg  \n",
       "1997  {'neg': 0.15, 'neu': 0.702, 'pos': 0.147, 'com...     -0.5966       neg  \n",
       "1998  {'neg': 0.131, 'neu': 0.71, 'pos': 0.16, 'comp...      0.9387       pos  \n",
       "1999  {'neg': 0.071, 'neu': 0.741, 'pos': 0.189, 'co...      0.9982       pos  \n",
       "\n",
       "[1938 rows x 5 columns]"
      ]
     },
     "execution_count": 26,
     "metadata": {},
     "output_type": "execute_result"
    }
   ],
   "source": [
    "data"
   ]
  },
  {
   "cell_type": "code",
   "execution_count": 27,
   "id": "08d01bc9",
   "metadata": {},
   "outputs": [],
   "source": [
    "from sklearn.metrics import classification_report"
   ]
  },
  {
   "cell_type": "code",
   "execution_count": 28,
   "id": "8ecd85eb",
   "metadata": {},
   "outputs": [
    {
     "name": "stdout",
     "output_type": "stream",
     "text": [
      "              precision    recall  f1-score   support\n",
      "\n",
      "         neg       0.72      0.44      0.55       969\n",
      "         pos       0.60      0.83      0.70       969\n",
      "\n",
      "    accuracy                           0.64      1938\n",
      "   macro avg       0.66      0.64      0.62      1938\n",
      "weighted avg       0.66      0.64      0.62      1938\n",
      "\n"
     ]
    }
   ],
   "source": [
    "print(classification_report(data[\"label\"] , data[\"sentiment\"]))"
   ]
  },
  {
   "cell_type": "markdown",
   "id": "fdd9293b",
   "metadata": {},
   "source": [
    "#"
   ]
  }
 ],
 "metadata": {
  "kernelspec": {
   "display_name": "Python 3 (ipykernel)",
   "language": "python",
   "name": "python3"
  },
  "language_info": {
   "codemirror_mode": {
    "name": "ipython",
    "version": 3
   },
   "file_extension": ".py",
   "mimetype": "text/x-python",
   "name": "python",
   "nbconvert_exporter": "python",
   "pygments_lexer": "ipython3",
   "version": "3.9.12"
  }
 },
 "nbformat": 4,
 "nbformat_minor": 5
}
